{
  "nbformat": 4,
  "nbformat_minor": 0,
  "metadata": {
    "colab": {
      "provenance": []
    },
    "kernelspec": {
      "name": "python3",
      "display_name": "Python 3"
    },
    "language_info": {
      "name": "python"
    }
  },
  "cells": [
    {
      "cell_type": "markdown",
      "source": [
        "# 1. Leetcode 225"
      ],
      "metadata": {
        "id": "bG1Cjy5mJkKU"
      }
    },
    {
      "cell_type": "code",
      "source": [
        "from collections import deque\n",
        "\n",
        "class MyStack:\n",
        "    def __init__(self):\n",
        "        self.q1 = deque()\n",
        "        self.q2 = deque()\n",
        "\n",
        "    def push(self, x: int) -> None:\n",
        "        self.q2.append(x)\n",
        "        while self.q1:\n",
        "            self.q2.append(self.q1.popleft())\n",
        "        self.q1, self.q2 = self.q2, self.q1\n",
        "        self.q2.clear()\n",
        "\n",
        "    def pop(self) -> int:\n",
        "        return self.q1.popleft()\n",
        "\n",
        "    def top(self) -> int:\n",
        "        return self.q1[0]\n",
        "\n",
        "    def empty(self) -> bool:\n",
        "        return not self.q1\n",
        "\n",
        "\n",
        "myStack = MyStack()\n",
        "myStack.push(1)\n",
        "myStack.push(2)\n",
        "\n",
        "param_1 = myStack.top()\n",
        "param_2 = myStack.pop()\n",
        "param_3 = myStack.empty()\n",
        "\n",
        "print(param_1)\n",
        "print(param_2)\n",
        "print(param_3)"
      ],
      "metadata": {
        "colab": {
          "base_uri": "https://localhost:8080/"
        },
        "id": "P0PWYBhGPGRR",
        "outputId": "487ebb48-98e2-4534-f7cb-f95b94d4e4fc"
      },
      "execution_count": null,
      "outputs": [
        {
          "output_type": "stream",
          "name": "stdout",
          "text": [
            "2\n",
            "2\n",
            "False\n"
          ]
        }
      ]
    },
    {
      "cell_type": "markdown",
      "source": [
        "# 2. Leetcode 232"
      ],
      "metadata": {
        "id": "ejX1aOJ1Juu_"
      }
    },
    {
      "cell_type": "code",
      "execution_count": null,
      "metadata": {
        "colab": {
          "base_uri": "https://localhost:8080/"
        },
        "id": "ZdRAijJMPEZg",
        "outputId": "8355a8ee-fa9b-4c40-939c-a4d9b9836e50"
      },
      "outputs": [
        {
          "output_type": "stream",
          "name": "stdout",
          "text": [
            "1\n",
            "1\n",
            "False\n"
          ]
        }
      ],
      "source": [
        "class MyQueue:\n",
        "    def __init__(self):\n",
        "        self.input_stack = []\n",
        "        self.output_stack = []\n",
        "\n",
        "    def push(self, x: int) -> None:\n",
        "        self.input_stack.append(x)\n",
        "\n",
        "    def pop(self) -> int:\n",
        "        self._move_input_to_output()\n",
        "        return self.output_stack.pop()\n",
        "\n",
        "    def peek(self) -> int:\n",
        "        self._move_input_to_output()\n",
        "        return self.output_stack[-1]\n",
        "\n",
        "    def empty(self) -> bool:\n",
        "        return not self.input_stack and not self.output_stack\n",
        "\n",
        "    def _move_input_to_output(self):\n",
        "        if not self.output_stack:\n",
        "            while self.input_stack:\n",
        "                self.output_stack.append(self.input_stack.pop())\n",
        "\n",
        "\n",
        "myQueue = MyQueue()\n",
        "myQueue.push(1)\n",
        "myQueue.push(2)\n",
        "param_1 = myQueue.peek()\n",
        "param_2 = myQueue.pop()\n",
        "param_3 = myQueue.empty()\n",
        "\n",
        "\n",
        "print(param_1)\n",
        "print(param_2)\n",
        "print(param_3)"
      ]
    },
    {
      "cell_type": "markdown",
      "source": [
        "# 3. Chapter 7"
      ],
      "metadata": {
        "id": "2j7vY9tnJxsp"
      }
    },
    {
      "cell_type": "markdown",
      "source": [
        "## 01"
      ],
      "metadata": {
        "id": "PCkA6xrGJ1F0"
      }
    },
    {
      "cell_type": "code",
      "source": [
        "class ListQueue:\n",
        "    def __init__(self):\n",
        "        self.__queue = []\n",
        "\n",
        "    def enqueue(self, x):\n",
        "        self.__queue.insert(0, x)\n",
        "\n",
        "    def dequeue(self):\n",
        "        return self.__queue.pop()\n",
        "\n",
        "    def front(self):\n",
        "        return self.__queue[-1]\n",
        "\n",
        "    def isEmpty(self) -> bool:\n",
        "        return len(self.__queue) == 0\n",
        "\n",
        "    def dequeueAll(self):\n",
        "        self.__queue.clear()\n"
      ],
      "metadata": {
        "id": "BSnhKVO6c3jJ"
      },
      "execution_count": null,
      "outputs": []
    },
    {
      "cell_type": "markdown",
      "source": [
        "## 02"
      ],
      "metadata": {
        "id": "8n6QwDD7J39N"
      }
    },
    {
      "cell_type": "code",
      "source": [
        "from collections import deque\n",
        "\n",
        "def is_in_language(s):\n",
        "    if '$' not in s:\n",
        "        return False\n",
        "\n",
        "    w1, w2 = s.split('$', 1)\n",
        "\n",
        "    queue = deque()\n",
        "\n",
        "    for ch in w1:\n",
        "        queue.append(ch)\n",
        "\n",
        "    for ch in w2:\n",
        "        if not queue or queue.popleft() != ch:\n",
        "            return False\n",
        "\n",
        "    return not queue"
      ],
      "metadata": {
        "id": "3E0EpGhfHTe6"
      },
      "execution_count": null,
      "outputs": []
    },
    {
      "cell_type": "markdown",
      "source": [
        "## 03"
      ],
      "metadata": {
        "id": "h8p5dFkHJ9lR"
      }
    },
    {
      "cell_type": "code",
      "source": [
        "def copyQueue(a):\n",
        "    b = LinkedQueue()\n",
        "    current = a.front\n",
        "\n",
        "    while current is not None:\n",
        "        b.enqueue(current.data)\n",
        "        current = current.next\n",
        "\n",
        "    return b"
      ],
      "metadata": {
        "id": "yFeptsRNHiLO"
      },
      "execution_count": null,
      "outputs": []
    },
    {
      "cell_type": "markdown",
      "source": [
        "## 04"
      ],
      "metadata": {
        "id": "IuiqEyNpKAYK"
      }
    },
    {
      "cell_type": "code",
      "source": [
        "from collections import deque\n",
        "\n",
        "class StackUsingQueues:\n",
        "    def __init__(self):\n",
        "        self.queue1 = deque()\n",
        "        self.queue2 = deque()\n",
        "\n",
        "    def push(self, x):\n",
        "        self.queue1.append(x)\n",
        "\n",
        "    def pop(self):\n",
        "        if not self.queue1:\n",
        "            return None\n",
        "\n",
        "        while len(self.queue1) > 1:\n",
        "            self.queue2.append(self.queue1.popleft())\n",
        "\n",
        "        top = self.queue1.popleft()\n",
        "\n",
        "        self.queue1, self.queue2 = self.queue2, self.queue1\n",
        "\n",
        "        return top\n",
        "\n",
        "    def isEmpty(self):\n",
        "        return len(self.queue1) == 0"
      ],
      "metadata": {
        "id": "jvCACDTFHrA6"
      },
      "execution_count": null,
      "outputs": []
    },
    {
      "cell_type": "markdown",
      "source": [
        "## 05"
      ],
      "metadata": {
        "id": "9KjvWAYKKDi1"
      }
    },
    {
      "cell_type": "code",
      "source": [
        "class QueueUsingTwoStacks:\n",
        "    def __init__(self):\n",
        "        self.stack1 = []\n",
        "        self.stack2 = []\n",
        "\n",
        "    def enqueue(self, x):\n",
        "        self.stack1.append(x)\n",
        "\n",
        "    def dequeue(self):\n",
        "        if not self.stack2:\n",
        "            while self.stack1:\n",
        "                self.stack2.append(self.stack1.pop())\n",
        "        if self.stack2:\n",
        "            return self.stack2.pop()\n",
        "        else:\n",
        "            raise IndexError(\"Queue is empty\")"
      ],
      "metadata": {
        "id": "bGM-attXHwdM"
      },
      "execution_count": null,
      "outputs": []
    },
    {
      "cell_type": "markdown",
      "source": [
        "## 06"
      ],
      "metadata": {
        "id": "JNqLUxXqLrzi"
      }
    },
    {
      "cell_type": "markdown",
      "source": [
        "단방향 원형 리스트를 기반으로 구현된 이 Deque는, front는 리스트의 시작 지점을, tail은 끝 지점을 의미한다. enqueue() 연산은 front 또는 tail 중 어느 위치에서 수행하든지 상수 시간인 Θ(1)에 수행된다. 마찬가지로, dequeue() 연산도 front나 tail 어느 쪽에서 수행해도 Θ(1)의 시간 복잡도를 가진다. 따라서 이 Deque는 삽입과 삭제 모두 위치에 관계없이 상수 시간 내에 처리할 수 있다."
      ],
      "metadata": {
        "id": "QkoLA5bcIdgY"
      }
    },
    {
      "cell_type": "markdown",
      "source": [
        "## 07"
      ],
      "metadata": {
        "id": "2Ix5ncn9LtvP"
      }
    },
    {
      "cell_type": "markdown",
      "source": [
        "이 Deque는 단방향 리스트를 바탕으로 구성되며, front는 리스트의 시작, tail은 끝 부분을 의미한다. enqueue() 연산은 front에서 수행할 경우 상수 시간인 Θ(1)에 가능하지만, tail에서 삽입하려면 전체 리스트를 순회해야 하므로 Θ(n)의 시간이 소요된다. 따라서 최악의 경우를 기준으로 보면, enqueue()의 시간 복잡도는 Θ(n)이다. 마찬가지로 dequeue() 연산도 front에서는 Θ(1)에 처리되지만, tail에서 삭제하려면 마지막 노드의 이전 노드를 찾아야 하므로 Θ(n)의 시간이 걸린다. 결국 dequeue() 역시 최악의 경우 Θ(n)의 시간 복잡도를 가진다."
      ],
      "metadata": {
        "id": "l7Ap7ybZIn3d"
      }
    },
    {
      "cell_type": "markdown",
      "source": [
        "## 08"
      ],
      "metadata": {
        "id": "zOSfNdX0JEip"
      }
    },
    {
      "cell_type": "code",
      "source": [
        "class Deque:\n",
        "    def __init__(self):\n",
        "        self.__deque = []\n",
        "\n",
        "    def isEmpty(self) -> bool:\n",
        "        return len(self.__deque) == 0\n",
        "\n",
        "    def enqueueFront(self, x):\n",
        "        self.__deque.insert(0, x)\n",
        "\n",
        "    def enqueueRear(self, x):\n",
        "        self.__deque.append(x)\n",
        "\n",
        "    def dequeueFront(self):\n",
        "        if self.isEmpty():\n",
        "            return None\n",
        "        return self.__deque.pop(0)\n",
        "\n",
        "    def dequeueRear(self):\n",
        "        if self.isEmpty():\n",
        "            return None\n",
        "        return self.__deque.pop()\n",
        "\n",
        "    def front(self):\n",
        "        if self.isEmpty():\n",
        "            return None\n",
        "        return self.__deque[0]\n",
        "\n",
        "    def rear(self):\n",
        "        if self.isEmpty():\n",
        "            return None\n",
        "        return self.__deque[-1]\n",
        "\n",
        "    def dequeueAll(self):\n",
        "        self.__deque.clear()\n",
        "\n",
        "    def printDeque(self):\n",
        "        print(\"Deque from front:\", end=' ')\n",
        "        for item in self.__deque:\n",
        "            print(item, end=' ')\n",
        "        print()"
      ],
      "metadata": {
        "id": "bFzvRySfLzVw"
      },
      "execution_count": null,
      "outputs": []
    }
  ]
}